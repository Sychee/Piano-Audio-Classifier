{
 "cells": [
  {
   "cell_type": "code",
   "execution_count": 1,
   "metadata": {},
   "outputs": [],
   "source": [
    "from __future__ import print_function\n",
    "\n",
    "import numpy as np\n",
    "import matplotlib.pyplot as plt\n",
    "\n",
    "from msmd.midi_parser import notes_to_onsets\n",
    "from msmd.data_model.piece import Piece\n",
    "from msmd.alignments import align_score_to_performance\n",
    "\n",
    "import os\n",
    "\n",
    "FPS = 20"
   ]
  },
  {
   "cell_type": "code",
   "execution_count": 2,
   "metadata": {},
   "outputs": [],
   "source": [
    "def getNvec(spectro_index: int, performance):\n",
    "    \"\"\"\n",
    "    Get the N hot encoded vector from MIDI matrix.\n",
    "    spectro_index(int): index on spectrogram matrix that will be used to get MIDI matrix equivalent\n",
    "    performance(msmd.Performance): loaded performance of the piece\n",
    "    \"\"\"\n",
    "    midi_matrix = performance.load_midi_matrix() #load corresponding piece's MIDI matrix\n",
    "    return np.where(midi_matrix[:,spectro_index]!=0, 1, 0) #converts indexes where multiple track keys overlap into 1s"
   ]
  },
  {
   "cell_type": "code",
   "execution_count": 3,
   "metadata": {},
   "outputs": [],
   "source": [
    "def midiToPiano(midi_vector):\n",
    "    \"\"\"\n",
    "    Convert MIDI N-hot encoded vector to equivalent piano note.\n",
    "    midi_vector(numpy array): desired N-hot encoded vector to be converted\n",
    "    \"\"\"\n",
    "    pass"
   ]
  },
  {
   "cell_type": "code",
   "execution_count": 4,
   "metadata": {},
   "outputs": [],
   "source": [
    "def filteredData(root_path: str) -> list:\n",
    "    \"\"\"\n",
    "    Filter out data where performance/score isn't available.\n",
    "    Requires os to be imported.\n",
    "    root_path(str): path on system to msmd data set\n",
    "    \"\"\"\n",
    "    files = [name for name in os.listdir(root_path)] #grabs all the piece names by folder\n",
    "    pieces = [Piece(root=root_path, name=data) for data in files] #converts every single piece into a Piece object\n",
    "    return [piece for piece in pieces if not len(piece.available_scores)==0] #filters out pieces that don't have available scores/performances"
   ]
  }
 ],
 "metadata": {
  "kernelspec": {
   "display_name": "Python [conda env:msmd] *",
   "language": "python",
   "name": "conda-env-msmd-py"
  },
  "language_info": {
   "codemirror_mode": {
    "name": "ipython",
    "version": 3
   },
   "file_extension": ".py",
   "mimetype": "text/x-python",
   "name": "python",
   "nbconvert_exporter": "python",
   "pygments_lexer": "ipython3",
   "version": "3.6.10"
  }
 },
 "nbformat": 4,
 "nbformat_minor": 4
}
