{
 "cells": [
  {
   "cell_type": "code",
   "execution_count": 1,
   "metadata": {},
   "outputs": [],
   "source": [
    "from __future__ import print_function\n",
    "\n",
    "import numpy as np\n",
    "import matplotlib.pyplot as plt\n",
    "\n",
    "from msmd.midi_parser import notes_to_onsets\n",
    "from msmd.data_model.piece import Piece\n",
    "from msmd.alignments import align_score_to_performance\n",
    "\n",
    "import os\n",
    "import math\n",
    "\n",
    "FPS = 20"
   ]
  },
  {
   "cell_type": "code",
   "execution_count": 2,
   "metadata": {},
   "outputs": [],
   "source": [
    "def getNvec(spectro_index: int, performance):\n",
    "    \"\"\"\n",
    "    Get the N hot encoded vector from MIDI matrix.\n",
    "    spectro_index(int): index on spectrogram matrix that will be used to get MIDI matrix equivalent\n",
    "    performance(msmd.Performance): loaded performance of the piece\n",
    "    \"\"\"\n",
    "    \n",
    "    midi_matrix = performance.load_midi_matrix() #load corresponding piece's MIDI matrix\n",
    "    return np.where(midi_matrix[:,spectro_index]!=0, 1, 0) #converts indexes where multiple track keys overlap into 1s"
   ]
  },
  {
   "cell_type": "code",
   "execution_count": 3,
   "metadata": {},
   "outputs": [],
   "source": [
    "def midiToPiano(midi_vector, notation: str ='sharp') -> str:\n",
    "    \"\"\"\n",
    "    Convert MIDI N-hot encoded vector to equivalent piano note(s).\n",
    "    Requires math to be imported.\n",
    "    midi_vector(numpy array): desired N-hot encoded vector to be converted\n",
    "    notation(str): sharp or flat. specify which format for output to be returned in\n",
    "    \"\"\"\n",
    "    \n",
    "    if notation != 'sharp' and notation != 'flat': return 'Invalid notation specification'\n",
    "    \n",
    "    note_str = '' #declaration of final returned note(s) string\n",
    "    notes_sharp = ['C','C#','D','D#','E','F','F#','G','G#','A','A#','B'] #note array used if sharp is specified\n",
    "    notes_flat = ['C','Db','D','Eb','E','F','Gb','G','Ab','A','Bb','B'] #note array used if flat is specified\n",
    "    notes_special_sharp = ['C','A','A#','B'] #special note array used if sharp is specified\n",
    "    notes_special_flat = ['C','A','Bb','B'] #special note array used if flat is specified\n",
    "    key_vector88 = np.roll(midi_vector[21:109],85) #condenses the MIDI vector down to 88 keys and moves first 3 notes to the back\n",
    "\n",
    "    for index in np.argwhere(key_vector88).flatten(): #iterate through indices where the vector is defined as 1\n",
    "        note_index = index%12 #get the note_index by modulo 12 because 12 notes in an octave\n",
    "        if notation == 'sharp': #if sharp notation specified\n",
    "            #append sharp letter note\n",
    "            if index > 83: note_str = note_str + notes_special_sharp[note_index]\n",
    "            else: note_str = note_str + notes_sharp[note_index] \n",
    "        else: #if flat notation specified\n",
    "            #append flat letter note\n",
    "            if index > 83: note_str = note_str + notes_special_flat[note_index]\n",
    "            else: note_str = note_str + notes_flat[note_index] \n",
    "\n",
    "        #append octave number\n",
    "        if index == 84: note_str = note_str + '8' #append octave 8 to special case note\n",
    "        elif index > 84: note_str = note_str + '0' #append octave 0 to first 3 special case notes\n",
    "        else: note_str = note_str + str(math.floor((index/12)+1)) #append octaves starting at 1\n",
    "            \n",
    "        note_str = note_str + ' ' #add space to end of note for multiple notes\n",
    "        \n",
    "    return note_str[:-1] #remove extra space at the end"
   ]
  },
  {
   "cell_type": "code",
   "execution_count": 4,
   "metadata": {},
   "outputs": [],
   "source": [
    "def filteredData(root_path: str) -> list:\n",
    "    \"\"\"\n",
    "    Filter out data where performance/score isn't available.\n",
    "    Requires os to be imported.\n",
    "    root_path(str): path on system to msmd data set\n",
    "    \"\"\"\n",
    "    \n",
    "    files = [name for name in os.listdir(root_path)] #grabs all the piece names by folder\n",
    "    pieces = [Piece(root=root_path, name=data) for data in files] #converts every single piece into a Piece object\n",
    "    \n",
    "    return [piece for piece in pieces if not len(piece.available_scores)==0] #filters out pieces that don't have available scores/performances"
   ]
  }
 ],
 "metadata": {
  "kernelspec": {
   "display_name": "Python [conda env:msmd] *",
   "language": "python",
   "name": "conda-env-msmd-py"
  },
  "language_info": {
   "codemirror_mode": {
    "name": "ipython",
    "version": 3
   },
   "file_extension": ".py",
   "mimetype": "text/x-python",
   "name": "python",
   "nbconvert_exporter": "python",
   "pygments_lexer": "ipython3",
   "version": "3.6.10"
  }
 },
 "nbformat": 4,
 "nbformat_minor": 4
}
